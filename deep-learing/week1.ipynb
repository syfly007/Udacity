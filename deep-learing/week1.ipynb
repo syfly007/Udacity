{
 "cells": [
  {
   "cell_type": "markdown",
   "metadata": {},
   "source": [
    "# 老师简介\n",
    "\n",
    "Siraj Raval：\n",
    "    http://www.sirajraval.com\n",
    "\n",
    "    -- Book:Decentralized Applications\n",
    "\n",
    "    -- video: youtube\n",
    "    \n",
    "    \n",
    "Mat Leonard：\n",
    "    物理学家，神经学家\n",
    "    Sampyl：深度学习库 http://matatat.org/sampyl/index.html\n",
    "    "
   ]
  },
  {
   "cell_type": "markdown",
   "metadata": {},
   "source": [
    "# Projects:\n",
    "\n",
    "Project 1 - Your First Neural Network\n",
    "Launches on January 27th\n",
    "\n",
    "Build a simple network to make predictions of bike sharing usage.\n",
    "\n",
    "Project 2 - Object Recognition\n",
    "Launches on February 22nd\n",
    "\n",
    "Build a neural network that detects objects from images.\n",
    "\n",
    "Project 3 - Generate TV Scripts\n",
    "Launches on March 22nd\n",
    "\n",
    "Use deep learning to generate new scripts for your favorite TV show.\n",
    "\n",
    "Project 4 - Make a Translation Chatbot\n",
    "Launches on April 5th\n",
    "\n",
    "Build a chatbot that translates text in real time.\n",
    "\n",
    "Project 5 - Generate Faces\n",
    "Launches on May 10th\n",
    "\n",
    "Use a generative adversarial network (GAN) to generate novel faces.\n",
    "\n",
    "\n",
    "\n",
    "Don't worry if you didn't recognize some of these terms. By the end of this course, this will all be a part of your vocabulary. In the mean time, here's some information on what these terms are:\n",
    "\n",
    "Convolutional Neural Network http://neuralnetworksanddeeplearning.com/chap6.html\n",
    "\n",
    "Recurrent Neural Network http://colah.github.io/posts/2015-08-Understanding-LSTMs/\n",
    "\n",
    "Generative Adversarial Network https://channel9.msdn.com/Events/Neural-Information-Processing-Systems-Conference/Neural-Information-Processing-Systems-Conference-NIPS-2016/Generative-Adversarial-Networks"
   ]
  },
  {
   "cell_type": "markdown",
   "metadata": {},
   "source": [
    "需要掌握：多元微积分，线性代数"
   ]
  },
  {
   "cell_type": "markdown",
   "metadata": {},
   "source": [
    "反馈交流：https://waffle.io/udacity/dlnd-issue-reports"
   ]
  },
  {
   "cell_type": "markdown",
   "metadata": {},
   "source": [
    "The First Week\n",
    "Don't worry if you didn't follow some of the terminology we used! Here's a little information for those of you who are interested in finding out more:\n",
    "\n",
    "Scikit-learn\n",
    "An extremely popular Machine Learning library for python.\n",
    "\n",
    "Perceptrons\n",
    "The simplest form of a neural network.\n",
    "\n",
    "Gradient Descent\n",
    "A process by which Machine Learning algorithms learn to improve themselves based on the accuracy of their predictions. You'll learn more about this in upcoming lessons.\n",
    "\n",
    "Backpropagation\n",
    "The process by which neural networks learn how to improve individual parameters. You'll learn all about this in the upcoming lessons.\n",
    "\n",
    "Numpy\n",
    "An extremely popular library for scientific computing in python.\n",
    "\n",
    "Tensorflow\n",
    "One of the most popular python libraries for creating neural networks. It is maintained by Google."
   ]
  },
  {
   "cell_type": "markdown",
   "metadata": {},
   "source": [
    "# Anaconda\n",
    "\n",
    "创建虚拟环境：conda create -n tea_facts python=3\n",
    "\n",
    "conda create -n env_name list of packages\n",
    "\n",
    "example:conda create -n my_env numpy\n",
    "\n",
    "激活环境：source activate tea_facts\n",
    "\n",
    "退激活环境：source deactivate\n",
    "\n",
    "列出已安装包：conda list\n",
    "\n",
    "查找安装包：conda search numpy\n",
    "\n",
    "安装需要的包：conda install numpy pandas matplotlib\n",
    "\n",
    "安装notebook：conda install jupyter notebook\n",
    "\n",
    "保存并导出环境信息：conda env export > environment.yaml\n",
    "\n",
    "从导出文件建立环境：conda env create -f environment.yaml\n",
    "\n",
    "列出环境信息：conda env list\n",
    "\n",
    "移除环境：conda env remove -n env_name"
   ]
  },
  {
   "cell_type": "markdown",
   "metadata": {},
   "source": [
    "练习：\n",
    "\n",
    "建立python2和python3的环境\n",
    "\n",
    "conda create -n py2 python=2\n",
    "\n",
    "conda create -n py3 python=3"
   ]
  },
  {
   "cell_type": "markdown",
   "metadata": {},
   "source": [
    "Why we're switching to Python 3\n",
    "\n",
    "    -Jupyter is switching to Python 3 only\n",
    "\n",
    "    -Python 2.7 is being retired\n",
    "\n",
    "    -Python 3.6 has great features such as formatted strings"
   ]
  },
  {
   "cell_type": "markdown",
   "metadata": {},
   "source": [
    "# Jupyter Notebooks\n",
    "\n",
    "%matplotlib inline 渲染图片\n",
    "\n"
   ]
  }
 ],
 "metadata": {
  "anaconda-cloud": {},
  "kernelspec": {
   "display_name": "Python [default]",
   "language": "python",
   "name": "python2"
  },
  "language_info": {
   "codemirror_mode": {
    "name": "ipython",
    "version": 2
   },
   "file_extension": ".py",
   "mimetype": "text/x-python",
   "name": "python",
   "nbconvert_exporter": "python",
   "pygments_lexer": "ipython2",
   "version": "2.7.12"
  },
  "toc": {
   "colors": {
    "hover_highlight": "#DAA520",
    "running_highlight": "#FF0000",
    "selected_highlight": "#FFD700"
   },
   "moveMenuLeft": true,
   "nav_menu": {
    "height": "67px",
    "width": "252px"
   },
   "navigate_menu": true,
   "number_sections": true,
   "sideBar": true,
   "threshold": 4,
   "toc_cell": false,
   "toc_section_display": "block",
   "toc_window_display": false
  }
 },
 "nbformat": 4,
 "nbformat_minor": 1
}
