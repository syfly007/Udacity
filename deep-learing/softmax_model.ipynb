{
 "cells": [
  {
   "cell_type": "markdown",
   "metadata": {},
   "source": [
    "练习: Softmax 模型\n",
    "Note: 你的 softmax(x) 函数应该返回一个形状和x相同的NumPy array类型。\n",
    "\n",
    "例如，当输入为一个列表或者一维矩阵（用列向量表示一个样本样本）时，比如说以下的：\n",
    "\n",
    "scores = [1.0, 2.0, 3.0]\n",
    "应该返回一个同样长度（即3个元素）的一维矩阵：\n",
    "\n",
    "print softmax(scores)\n",
    "[ 0.09003057  0.24472847  0.66524096]\n",
    "对于一个二维矩阵，如以下（列向量表示单个样本），例如:\n",
    "\n",
    "scores = np.array([[1, 2, 3, 6],\n",
    "                   [2, 4, 5, 6],\n",
    "                   [3, 8, 7, 6]])\n",
    "该函数应该返回一个同样大小(3,4)的二维矩阵，如以下:\n",
    "\n",
    "[[ 0.09003057  0.00242826  0.01587624  0.33333333]\n",
    " [ 0.24472847  0.01794253  0.11731043  0.33333333]\n",
    " [ 0.66524096  0.97962921  0.86681333  0.33333333]]\n",
    "每个样本（列向量）中的概率加起来应当等于 1。你可以用以上的例子来测试你的函数。"
   ]
  },
  {
   "cell_type": "code",
   "execution_count": 115,
   "metadata": {
    "collapsed": false
   },
   "outputs": [
    {
     "name": "stdout",
     "output_type": "stream",
     "text": [
      "[ 0.8360188   0.11314284  0.05083836]\n"
     ]
    },
    {
     "data": {
      "image/png": "[encoded data removed]",
      "text/plain": [
       "<matplotlib.figure.Figure at 0x7f708c393250>"
      ]
     },
     "metadata": {},
     "output_type": "display_data"
    }
   ],
   "source": [
    "\"\"\"Softmax.\"\"\"\n",
    "\n",
    "scores = [3.0, 1.0, 0.2]\n",
    "\n",
    "import numpy as np\n",
    "\n",
    "def softmax(x):\n",
    "    \"\"\"Compute softmax values for each sets of scores in x.\"\"\"\n",
    "#     s=np.shape(x)\n",
    "#     if len(s) == 1:\n",
    "#         return np.exp(x[:])/sum(np.exp(x[:]))\n",
    "#     if len(s) == 2:\n",
    "#         a=np.mat(x)\n",
    "#         for i in range(np.shape(a)[1]):\n",
    "#             a[:,i]=np.exp(a[:,i])/sum(np.exp(a[:,i]))\n",
    "#         return a \n",
    "#     print \"ERROR\"\n",
    "#     return \n",
    "    return np.exp(x)/sum(np.exp(x))\n",
    "    \n",
    "print(softmax(scores))\n",
    "\n",
    "# Plot softmax curves\n",
    "import matplotlib.pyplot as plt\n",
    "x = np.arange(-2.0, 6.0, 0.1)\n",
    "scores = np.vstack([x, np.ones_like(x), 0.2 * np.ones_like(x)])\n",
    "plt.plot(x, softmax(scores*10).T, linewidth=2)\n",
    "plt.show()"
   ]
  },
  {
   "cell_type": "code",
   "execution_count": 116,
   "metadata": {
    "collapsed": false
   },
   "outputs": [
    {
     "name": "stdout",
     "output_type": "stream",
     "text": [
      "[  9.99999998e-01   2.06115362e-09   6.91440009e-13]\n",
      "[ 0.38842275  0.31801365  0.2935636 ]\n"
     ]
    }
   ],
   "source": [
    "scores = np.array([3.0,1.0,0.2])\n",
    "print softmax(scores*10)\n",
    "print softmax(scores/10)"
   ]
  },
  {
   "cell_type": "code",
   "execution_count": null,
   "metadata": {
    "collapsed": true
   },
   "outputs": [],
   "source": []
  }
 ],
 "metadata": {
  "anaconda-cloud": {},
  "kernelspec": {
   "display_name": "Python [default]",
   "language": "python",
   "name": "python2"
  },
  "language_info": {
   "codemirror_mode": {
    "name": "ipython",
    "version": 2
   },
   "file_extension": ".py",
   "mimetype": "text/x-python",
   "name": "python",
   "nbconvert_exporter": "python",
   "pygments_lexer": "ipython2",
   "version": "2.7.12"
  },
  "toc": {
   "colors": {
    "hover_highlight": "#DAA520",
    "running_highlight": "#FF0000",
    "selected_highlight": "#FFD700"
   },
   "moveMenuLeft": true,
   "nav_menu": {
    "height": "12px",
    "width": "252px"
   },
   "navigate_menu": true,
   "number_sections": true,
   "sideBar": true,
   "threshold": 4,
   "toc_cell": false,
   "toc_section_display": "block",
   "toc_window_display": false
  }
 },
 "nbformat": 4,
 "nbformat_minor": 1
}
