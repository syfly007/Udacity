{
 "cells": [
  {
   "cell_type": "markdown",
   "metadata": {},
   "source": [
    "# 简介\n",
    "恭喜！你已经构建了你的首个模型，一个用于预测自行车共享使用情况的神经网络！正如你在项目中看到的，数据分为训练、验证和测试集。在此部分，我们将学习为何需要这么做，以及如何验证模型的效果并为其评分。具体而言，你将学习以下内容：\n",
    "\n",
    "- 如何为模型创建测试集。\n",
    "- 如何使用混淆矩阵评估误报率和漏报率。\n",
    "- 如何衡量精确度和其他模型指标。\n",
    "- 如何评估回归。\n",
    "- 如何根据模型的复杂性检测你是否过度拟合或低度拟合了。\n",
    "- 如何使用交叉验证确保你的模型可以泛化。"
   ]
  },
  {
   "cell_type": "markdown",
   "metadata": {},
   "source": [
    "# 测试\n",
    "\n",
    "将数据分为测试集和训练集，分别用来测试和训练。\n",
    "注意：**决不能用测试集进行训练！**"
   ]
  },
  {
   "cell_type": "code",
   "execution_count": 3,
   "metadata": {
    "collapsed": false
   },
   "outputs": [],
   "source": [
    "#sklearn中进行测试\n",
    "\n",
    "from sklearn.model_selection import train_test_split\n",
    "#X_train, X_test, y_train, y_test = train_test_split(x,y,test_size = 0.25) #测试集比例为0.25"
   ]
  },
  {
   "cell_type": "markdown",
   "metadata": {},
   "source": [
    "# 混淆矩阵(Confusion Matrix)\n",
    "<div align=center><img width=\"70%\" height=\"70%\" src=\"https://s3.cn-north-1.amazonaws.com.cn/u-img/3ba16a36-de47-44b6-b2cb-6bb034403a38\"/></div>"
   ]
  },
  {
   "cell_type": "markdown",
   "metadata": {},
   "source": [
    "混淆矩阵练习\n",
    "上述模型中有多少个 True Positive、True Negative、False Positives 和 False Negative ？ 请按照上述顺序填写答案，四个数字用逗号和空格隔开。例如，如果你的答案是 1、2、3 和 4，则输入字符串 1, 2, 3, 4。\n",
    "\n",
    "注意，在上述图片中，蓝点表示 positive，红点表示 negative。\n",
    "- 答案： 6,5,2,1"
   ]
  },
  {
   "cell_type": "markdown",
   "metadata": {},
   "source": [
    "# 精确度（Accuracy）"
   ]
  },
  {
   "cell_type": "markdown",
   "metadata": {},
   "source": [
    "<div align=center><img width=\"70%\" height=\"70%\" src=\"img2-1.png\"/></div>"
   ]
  },
  {
   "cell_type": "markdown",
   "metadata": {
    "collapsed": true
   },
   "source": [
    "# 回归指标"
   ]
  },
  {
   "cell_type": "markdown",
   "metadata": {},
   "source": [
    "## 平均绝对值误差（Mean Absolute Error）"
   ]
  },
  {
   "cell_type": "markdown",
   "metadata": {},
   "source": [
    "<div align=center><img width=\"70%\" height=\"70%\" src=\"img2-2.png\"/></div>"
   ]
  },
  {
   "cell_type": "markdown",
   "metadata": {},
   "source": [
    "缺点：不可微分,不利于使用梯度下降等算法。"
   ]
  },
  {
   "cell_type": "markdown",
   "metadata": {},
   "source": [
    "## 均方误差（Mean Squared Error）"
   ]
  },
  {
   "cell_type": "markdown",
   "metadata": {},
   "source": [
    "<div align=center><img width=\"70%\" height=\"70%\" src=\"img2-3.png\"/></div>"
   ]
  },
  {
   "cell_type": "code",
   "execution_count": null,
   "metadata": {
    "collapsed": true
   },
   "outputs": [],
   "source": []
  }
 ],
 "metadata": {
  "anaconda-cloud": {},
  "kernelspec": {
   "display_name": "Python [default]",
   "language": "python",
   "name": "python2"
  },
  "language_info": {
   "codemirror_mode": {
    "name": "ipython",
    "version": 2
   },
   "file_extension": ".py",
   "mimetype": "text/x-python",
   "name": "python",
   "nbconvert_exporter": "python",
   "pygments_lexer": "ipython2",
   "version": "2.7.12"
  },
  "toc": {
   "colors": {
    "hover_highlight": "#DAA520",
    "running_highlight": "#FF0000",
    "selected_highlight": "#FFD700"
   },
   "moveMenuLeft": true,
   "nav_menu": {
    "height": "86px",
    "width": "252px"
   },
   "navigate_menu": true,
   "number_sections": true,
   "sideBar": true,
   "threshold": 4,
   "toc_cell": false,
   "toc_section_display": "block",
   "toc_window_display": false
  }
 },
 "nbformat": 4,
 "nbformat_minor": 1
}
