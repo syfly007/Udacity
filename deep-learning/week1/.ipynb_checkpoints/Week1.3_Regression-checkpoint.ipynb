{
 "cells": [
  {
   "cell_type": "code",
   "execution_count": 2,
   "metadata": {
    "collapsed": false
   },
   "outputs": [],
   "source": [
    "import pandas as pd\n",
    "from sklearn import linear_model\n",
    "import matplotlib.pyplot as plt"
   ]
  },
  {
   "cell_type": "code",
   "execution_count": 3,
   "metadata": {
    "collapsed": false
   },
   "outputs": [],
   "source": [
    "#read data\n",
    "datafram = pd.read_fwf('brain_body.txt')"
   ]
  },
  {
   "cell_type": "code",
   "execution_count": 4,
   "metadata": {
    "collapsed": false
   },
   "outputs": [
    {
     "name": "stdout",
     "output_type": "stream",
     "text": [
      "       Brain     Body\n",
      "0      3.385    44.50\n",
      "1      0.480    15.50\n",
      "2      1.350     8.10\n",
      "3    465.000   423.00\n",
      "4     36.330   119.50\n",
      "5     27.660   115.00\n",
      "6     14.830    98.20\n",
      "7      1.040     5.50\n",
      "8      4.190    58.00\n",
      "9      0.425     6.40\n",
      "10     0.101     4.00\n",
      "11     0.920     5.70\n",
      "12     1.000     6.60\n",
      "13     0.005     0.14\n",
      "14     0.060     1.00\n",
      "15     3.500    10.80\n",
      "16     2.000    12.30\n",
      "17     1.700     6.30\n",
      "18  2547.000  4603.00\n",
      "19     0.023     0.30\n",
      "20   187.100   419.00\n",
      "21   521.000   655.00\n",
      "22     0.785     3.50\n",
      "23    10.000   115.00\n",
      "24     3.300    25.60\n",
      "25     0.200     5.00\n",
      "26     1.410    17.50\n",
      "27   529.000   680.00\n",
      "28   207.000   406.00\n",
      "29    85.000   325.00\n",
      "..       ...      ...\n",
      "32  6654.000  5712.00\n",
      "33     3.500     3.90\n",
      "34     6.800   179.00\n",
      "35    35.000    56.00\n",
      "36     4.050    17.00\n",
      "37     0.120     1.00\n",
      "38     0.023     0.40\n",
      "39     0.010     0.25\n",
      "40     1.400    12.50\n",
      "41   250.000   490.00\n",
      "42     2.500    12.10\n",
      "43    55.500   175.00\n",
      "44   100.000   157.00\n",
      "45    52.160   440.00\n",
      "46    10.550   179.50\n",
      "47     0.550     2.40\n",
      "48    60.000    81.00\n",
      "49     3.600    21.00\n",
      "50     4.288    39.20\n",
      "51     0.280     1.90\n",
      "52     0.075     1.20\n",
      "53     0.122     3.00\n",
      "54     0.048     0.33\n",
      "55   192.000   180.00\n",
      "56     3.000    25.00\n",
      "57   160.000   169.00\n",
      "58     0.900     2.60\n",
      "59     1.620    11.40\n",
      "60     0.104     2.50\n",
      "61     4.235    50.40\n",
      "\n",
      "[62 rows x 2 columns]\n"
     ]
    }
   ],
   "source": [
    "print datafram"
   ]
  },
  {
   "cell_type": "code",
   "execution_count": null,
   "metadata": {
    "collapsed": true
   },
   "outputs": [],
   "source": []
  }
 ],
 "metadata": {
  "anaconda-cloud": {},
  "kernelspec": {
   "display_name": "Python [default]",
   "language": "python",
   "name": "python2"
  },
  "language_info": {
   "codemirror_mode": {
    "name": "ipython",
    "version": 2
   },
   "file_extension": ".py",
   "mimetype": "text/x-python",
   "name": "python",
   "nbconvert_exporter": "python",
   "pygments_lexer": "ipython2",
   "version": "2.7.12"
  },
  "toc": {
   "colors": {
    "hover_highlight": "#DAA520",
    "running_highlight": "#FF0000",
    "selected_highlight": "#FFD700"
   },
   "moveMenuLeft": true,
   "nav_menu": {
    "height": "12px",
    "width": "252px"
   },
   "navigate_menu": true,
   "number_sections": true,
   "sideBar": true,
   "threshold": 4,
   "toc_cell": false,
   "toc_section_display": "block",
   "toc_window_display": false
  }
 },
 "nbformat": 4,
 "nbformat_minor": 1
}
