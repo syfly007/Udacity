{
 "cells": [
  {
   "cell_type": "markdown",
   "metadata": {},
   "source": [
    "# Introduction\n",
    "In this lesson, we're going to go over a few really cool applications of Deep Learning using pre-trained models that others have generously provided on github. Don't worry if you don't understand what's going on! The goal is just for you to see the power of Deep Learning in a few different contexts and play around with these models. You'll get to dive deep into such models later on in the program. For now just have fun and plug in your own examples where possible!\n",
    "\n",
    "Note that this lesson is totally optional and that if you want to skip ahead, you should feel free to do so!"
   ]
  },
  {
   "cell_type": "markdown",
   "metadata": {},
   "source": [
    "# Style Transfer"
   ]
  },
  {
   "cell_type": "markdown",
   "metadata": {},
   "source": [
    "conda create -n style-transfer python=2.7.9\n",
    "source activate style-transfer\n",
    "pip install tensorflow\n",
    "conda install scipy pillow\n",
    "\n",
    ">* 1.Download the Zip archive from the fast-style-transfer repository and extract it. You can download it by clicking on the bright green button on the right.\n",
    ">* 2.Download the Rain Princess checkpoint from here. Put it in the fast-style-transfer folder. A checkpoint file is a model that already has tuned parameters. By using this checkpoint file, we won't need to train the model and can get straight to applying it.\n",
    ">* 3.Copy the image you want to style into the fast-style-transfer folder.\n",
    ">* 4.Enter the Conda environment you created above, if you aren't still in it.\n",
    ">* 5.In your terminal, navigate to the fast-style-transfer folder and enter\n",
    "\n",
    "\n",
    "python evaluate.py --checkpoint ./rain-princess.ckpt --in-path <path_to_input_file> --out-path ./output_image.jpg"
   ]
  },
  {
   "cell_type": "markdown",
   "metadata": {},
   "source": [
    "# DeepTraffic\n",
    "\n",
    "You can find the DeepTraffic simulator [here](http://selfdrivingcars.mit.edu/deeptrafficjs/). The network here is attempting to learn a driving strategy such that the car is moving as fast as possible using reinforcement learning. The network is rewarded when the car chooses actions that result in it moving fast. It's this feedback that allows the network to find a strategy of actions for optimal speed.\n",
    "\n",
    "To learn more about setting the parameters and training the network, read the overview here.\n",
    "\n",
    "Discuss how you built your network and your results with your fellow students in the #deeptraffic channel on Slack."
   ]
  },
  {
   "cell_type": "markdown",
   "metadata": {},
   "source": [
    "# Flappy Bird"
   ]
  },
  {
   "cell_type": "markdown",
   "metadata": {},
   "source": [
    "In this example, you'll get to see a Deep Learning agent playing Flappy Bird! You have the option to train the agent yourself, but for now let's just start with the pre-trained network given by the author. Note that the following agent is able to play without being told any information about the structure of the game or its rules. It automatically discovers the rules of the game by finding out how it did on each iteration.\n",
    "\n",
    "We will be following [this repository](https://github.com/yenchenlin/DeepLearningFlappyBird) by Yenchen Lin.\n",
    "\n",
    "## Instructions\n",
    "### Install miniconda or anaconda if you have not already. You can follow our tutorial for help.\n",
    "### Create an environment for flappybird\n",
    "  >* Mac/Linux: conda create --name=flappybird python=2.7\n",
    "  >* Windows: conda create --name=flappybird python=3.5\n",
    "  \n",
    "### Enter your conda environment\n",
    ">* Mac/Linux: source activate flappybird\n",
    ">* Windows: activate flappybird\n",
    "\n",
    "### conda install -c menpo opencv3\n",
    "### pip install pygame\n",
    "### pip install tensorflow\n",
    "### git clone https://github.com/yenchenlin/DeepLearningFlappyBird.git\n",
    "### cd DeepLearningFlappyBird\n",
    "### python deep_q_network.py\n",
    "\n",
    "If all went correctly, you should be seeing a Deep Learning based agent play Flappy Bird! The repository contains instructions for training your own agent if you're interested!"
   ]
  },
  {
   "cell_type": "markdown",
   "metadata": {},
   "source": [
    "# Books to read\n",
    "\n",
    "We believe that you learn best when you are exposed to multiple perspectives on the same idea. As such, we recommend checking out a few of the books below to get an added perspective on Deep Learning.\n",
    "\n",
    ">* [Grokking Deep Learning](https://www.manning.com/books/grokking-deep-learning) by Andrew Trask. Use our exclusive discount code traskud17 for 40% off. This provides a very gentle introduction to Deep Learning and covers the intuition more than the theory.\n",
    ">* [Neural Networks And Deep Learning](http://neuralnetworksanddeeplearning.com/) by Michael Nielsen. This book is more rigorous than Grokking Deep Learning and includes a lot of fun, interactive visualizations to play with.\n",
    ">* [The Deep Learning Textbook](http://www.deeplearningbook.org/) from Ian Goodfellow, Yoshua Bengio, and Aaron Courville. This online book has lot of material and is the most rigorous of the three books suggested."
   ]
  },
  {
   "cell_type": "code",
   "execution_count": null,
   "metadata": {
    "collapsed": true
   },
   "outputs": [],
   "source": []
  }
 ],
 "metadata": {
  "anaconda-cloud": {},
  "kernelspec": {
   "display_name": "Python [default]",
   "language": "python",
   "name": "python2"
  },
  "language_info": {
   "codemirror_mode": {
    "name": "ipython",
    "version": 2
   },
   "file_extension": ".py",
   "mimetype": "text/x-python",
   "name": "python",
   "nbconvert_exporter": "python",
   "pygments_lexer": "ipython2",
   "version": "2.7.12"
  },
  "toc": {
   "colors": {
    "hover_highlight": "#DAA520",
    "running_highlight": "#FF0000",
    "selected_highlight": "#FFD700"
   },
   "moveMenuLeft": true,
   "nav_menu": {
    "height": "288px",
    "width": "252px"
   },
   "navigate_menu": true,
   "number_sections": true,
   "sideBar": true,
   "threshold": 4,
   "toc_cell": false,
   "toc_section_display": "block",
   "toc_window_display": false
  }
 },
 "nbformat": 4,
 "nbformat_minor": 1
}
